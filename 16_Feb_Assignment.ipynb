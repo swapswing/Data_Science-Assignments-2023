{
 "cells": [
  {
   "cell_type": "markdown",
   "id": "b7e3a60c-0cce-45e3-88b2-b421dc02f3e0",
   "metadata": {},
   "source": [
    "# Q1. What is a database? Differentiate between SQL and NoSQL databases.\n",
    "\n",
    "Ans.\n",
    "A database is an organized collection of structured information or data, typically stored electronically in a computer system. A database is managed by a database management system (DBMS).\n",
    "\n",
    "SQL (Structured Query Language) Databases:\n",
    "\n",
    "Schema-based: SQL databases are table-based, and the schema (structure) must be defined before data is inserted.\n",
    "Relational: SQL databases are relational databases (RDBMS) that use structured query language for defining and manipulating data.\n",
    "ACID Compliance: Ensures reliable transactions with properties of Atomicity, Consistency, Isolation, and Durability.\n",
    "Examples: MySQL, PostgreSQL, Oracle Database, Microsoft SQL Server.\n",
    "NoSQL (Not Only SQL) Databases:\n",
    "\n",
    "Schema-less: NoSQL databases are more flexible and can store unstructured data without a predefined schema.\n",
    "Variety of Data Models: They support various data models such as key-value pairs, document-oriented, column-oriented, and graph-based.\n",
    "Horizontal Scalability: Designed to scale out by adding more servers easily.\n",
    "BASE Compliance: Focuses on Basic Availability, Soft state, and Eventual consistency.\n",
    "Examples: MongoDB, Cassandra, Redis, Couchbase.\n"
   ]
  },
  {
   "cell_type": "markdown",
   "id": "3239c709-08f1-4f00-a0d7-1b9ea6237f9b",
   "metadata": {},
   "source": [
    "# Q2. What is DDL? Explain why CREATE, DROP, ALTER, and TRUNCATE are used with an example.\n",
    "Ans. \n",
    "# DDL (Data Definition Language)\n",
    "is a subset of SQL used to define and manage all the database objects, such as tables, indexes, and views.\n",
    "\n",
    "# CREATE:\n",
    "Used to create new database objects like tables, indexes, and databases.\n",
    "CREATE TABLE Employees (\n",
    "    EmployeeID INT PRIMARY KEY,\n",
    "    FirstName VARCHAR(50),\n",
    "    LastName VARCHAR(50),\n",
    "    Email VARCHAR(100)\n",
    ");\n",
    "\n",
    "# DROP:\n",
    "Used to delete existing database objects.\n",
    "code: \n",
    "DROP TABLE Employees;\r\n",
    "\n",
    "# ALTER:\n",
    "Used to modify existing database objects.code:\n",
    "ALTER TABLE Employees ADD COLUMN BirthDate DATE;\r\n",
    "# TRUNCATE:\n",
    "Used to delete all rows from a table without logging individual row deletions.\n",
    "code:\n",
    "TRUNCATE TABLE Employees;\r\n",
    "\n",
    "\n"
   ]
  },
  {
   "cell_type": "markdown",
   "id": "c9e3dcdb-73c9-4f02-a43e-98fb299357df",
   "metadata": {},
   "source": [
    "# Q3. What is DML? Explain INSERT, UPDATE, and DELETE with an example.\n",
    "Ans.\n",
    "# DML (Data Manipulation Language)\n",
    "is used for managing data within schema objects. It includes the operations to insert, update, and delete records.\n",
    "\n",
    "# INSERT:\n",
    "Adds new rows to a table.\n",
    "\n",
    "code:INSERT INTO Employees (EmployeeID, FirstName, LastName, Email)\r\n",
    "VALUES (1, 'John', 'Doe', 'john.doe@example.com')\n",
    "\n",
    "# UPDATE:\n",
    "Modifies existing data in a table.\n",
    "\n",
    "code:\n",
    "UPDATE Employees\r\n",
    "SET Email = 'john.newemail@example.com'\r\n",
    "WHERE EmployeeID = 1;# DELETE:\n",
    "Removes existing rows from a table.\n",
    "\n",
    "code:\n",
    "DELETE FROM Employees\r\n",
    "WHERE EmployeeID = 1;\r\n",
    "\r\n",
    ";\r\n"
   ]
  },
  {
   "cell_type": "markdown",
   "id": "9b81bb77-60f3-4415-b196-28bf03966e6b",
   "metadata": {},
   "source": [
    "# Q4. What is DQL? Explain SELECT with an example.\n",
    "Ans. DQL (Data Query Language) is used to query the database and fetch the data from it. The primary command in DQL is SELECT.\n",
    "\n",
    "# SELECT:\n",
    "Retrieves data from one or more tables.\n",
    "\n",
    "code:\n",
    "SELECT FirstName, LastName, Email\n",
    "\r\n",
    "FROM Employes\n",
    "\r\n",
    "WHERE EmployeeID = 1;\r\n"
   ]
  },
  {
   "cell_type": "markdown",
   "id": "15e13ff9-418b-4e56-9c7f-5bac4793c9fd",
   "metadata": {},
   "source": [
    "# Q5. Explain Primary Key and Foreign Key.\n",
    "Ans.\n",
    "\n",
    "Primary Key: A field (or combination of fields) that uniquely identifies each record in a table. A table can have only one primary key.\n",
    "\n",
    "\n",
    "CREATE TABLE Employees (\n",
    "    EmployeeID INT PRIMARY KEY,\n",
    "    FirstName VARCHAR(50),\n",
    "    LastName VARCHAR(50),\n",
    "    Email VARCHAR(100)\n",
    ");\n",
    "\n",
    "\n",
    "Foreign Key: A field (or combination of fields) in one table that uniquely identifies a row in another table. It establishes a relationship between the two tables.\n",
    "\n",
    "\n",
    "CREATE TABLE Orders (\n",
    "    OrderID INT PRIMARY KEY,\n",
    "    OrderDate DATE,\n",
    "    EmployeeID INT,\n",
    "    FOREIGN KEY (EmployeeID) REFERENCES Employees(EmployeeID)\n",
    ");"
   ]
  },
  {
   "cell_type": "markdown",
   "id": "38a24001-e544-42c3-8721-14bf5b9b2569",
   "metadata": {},
   "source": [
    "# Q6. Write a python code to connect MySQL to python. Explain the cursor() and execute() method."
   ]
  },
  {
   "cell_type": "code",
   "execution_count": null,
   "id": "59ac5e75-ee12-41c0-b159-aaf7137f4056",
   "metadata": {},
   "outputs": [],
   "source": [
    "import mysql.connector\n",
    "\n",
    "# Establishing a connection\n",
    "conn = mysql.connector.connect(\n",
    "    host=\"localhost\",\n",
    "    user=\"username\",\n",
    "    password=\"password\",\n",
    "    database=\"database_name\"\n",
    ")\n",
    "\n",
    "# Creating a cursor object\n",
    "cursor = conn.cursor()\n",
    "\n",
    "# Using execute() to run an SQL query\n",
    "cursor.execute(\"SELECT * FROM Employees\")\n",
    "\n",
    "# Fetching the results\n",
    "results = cursor.fetchall()\n",
    "for row in results:\n",
    "    print(row)\n",
    "\n",
    "# Closing the cursor and connection\n",
    "cursor.close()\n",
    "conn.close()\n"
   ]
  },
  {
   "cell_type": "markdown",
   "id": "1268c25e-5d7d-4727-b13c-c0d48c5fd15a",
   "metadata": {},
   "source": [
    "cursor(): This method creates a cursor object, which allows you to execute SQL queries and fetch results.\n",
    "\n",
    "\n",
    "execute(): This method is used to execute a given SQL query. The query string is passed as an argument to this method."
   ]
  },
  {
   "cell_type": "markdown",
   "id": "71ff2806-30fd-4e9e-b179-4493aba7ab08",
   "metadata": {},
   "source": [
    "# Q7. Give the order of execution of SQL clauses in an SQL query.\n",
    "Ans.\n",
    "\n",
    "1. FROM: The table(s) from which to retrieve data.\n",
    "2. JOIN: The join operations to combine tables.\n",
    "3. WHERE: The filter conditions.\n",
    "4. GROUP BY: The columns to group the data by.\n",
    "5. HAVING: The filter conditions on the groups.\n",
    "6. SELECT: The columns to retrieve.DISTINCT: Removes duplicate rows.\n",
    "ORDER BY: The columns to sort the data by.\n",
    "LIMIT: The number of rows to return."
   ]
  }
 ],
 "metadata": {
  "kernelspec": {
   "display_name": "Python 3 (ipykernel)",
   "language": "python",
   "name": "python3"
  },
  "language_info": {
   "codemirror_mode": {
    "name": "ipython",
    "version": 3
   },
   "file_extension": ".py",
   "mimetype": "text/x-python",
   "name": "python",
   "nbconvert_exporter": "python",
   "pygments_lexer": "ipython3",
   "version": "3.11.7"
  }
 },
 "nbformat": 4,
 "nbformat_minor": 5
}
