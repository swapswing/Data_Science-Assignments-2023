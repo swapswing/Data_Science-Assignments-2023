{
 "cells": [
  {
   "cell_type": "markdown",
   "id": "ad82ba73-9e4d-4ff9-9848-8e27dc6e0fcc",
   "metadata": {},
   "source": [
    "# Q1. What is an Exception in Python? Write the difference between Exceptions and Syntax errors."
   ]
  },
  {
   "cell_type": "markdown",
   "id": "9cc94036-1902-4432-9b54-244c4a44aa5d",
   "metadata": {},
   "source": [
    "Ans.  Exceptions are errors that occur during the execution of a program. They are typically caused by an unexpected situation such as division by zero, file not found, etc. Exceptions can be handled using try-except blocks to prevent the program from crashing.\n",
    "\n",
    "Syntax errors are errors in the syntax of the code. These are detected while parsing the code before execution and must be corrected for the code to run.\n",
    "\n",
    "Difference:\n",
    "\n",
    "Exceptions: Occur at runtime and can be caught and handled.\n",
    "Syntax errors: Occur at compile-time (before the program runs) and must be fixed for the code to execute."
   ]
  },
  {
   "cell_type": "code",
   "execution_count": 1,
   "id": "4e573877-07ae-42c1-8e99-0a3736577554",
   "metadata": {},
   "outputs": [
    {
     "name": "stdout",
     "output_type": "stream",
     "text": [
      "Cannot divide by zero!\n"
     ]
    }
   ],
   "source": [
    "#Example of Exception\n",
    "try:\n",
    "    result = 10 / 0\n",
    "except ZeroDivisionError:\n",
    "    print(\"Cannot divide by zero!\")\n"
   ]
  },
  {
   "cell_type": "code",
   "execution_count": 2,
   "id": "04e848e3-c904-4465-b5e6-13c16859f168",
   "metadata": {},
   "outputs": [
    {
     "ename": "SyntaxError",
     "evalue": "Missing parentheses in call to 'print'. Did you mean print(...)? (2453792813.py, line 4)",
     "output_type": "error",
     "traceback": [
      "\u001b[0;36m  Cell \u001b[0;32mIn[2], line 4\u001b[0;36m\u001b[0m\n\u001b[0;31m    print \"Hello, World!\"\u001b[0m\n\u001b[0m    ^\u001b[0m\n\u001b[0;31mSyntaxError\u001b[0m\u001b[0;31m:\u001b[0m Missing parentheses in call to 'print'. Did you mean print(...)?\n"
     ]
    }
   ],
   "source": [
    "#Example of Syntax Error\n",
    "\n",
    "# This will result in a syntax error because of the missing parenthesis\n",
    "print \"Hello, World!\"\n"
   ]
  },
  {
   "cell_type": "markdown",
   "id": "7706b16b-1981-498e-ad1a-086a3b7984c6",
   "metadata": {},
   "source": [
    "# Q2. What happens when an exception is not handled? Explain with an example.\n",
    "\n",
    "Ans. When an exception is not handled, the program will terminate and an error message (traceback) will be printed to the console, indicating the type of exception and where it occurred.\n",
    "\n"
   ]
  },
  {
   "cell_type": "code",
   "execution_count": 3,
   "id": "9a431c70-9dc7-4e34-8381-017570d28f8a",
   "metadata": {},
   "outputs": [
    {
     "ename": "ZeroDivisionError",
     "evalue": "division by zero",
     "output_type": "error",
     "traceback": [
      "\u001b[0;31m---------------------------------------------------------------------------\u001b[0m",
      "\u001b[0;31mZeroDivisionError\u001b[0m                         Traceback (most recent call last)",
      "Cell \u001b[0;32mIn[3], line 5\u001b[0m\n\u001b[1;32m      2\u001b[0m \u001b[38;5;28;01mdef\u001b[39;00m \u001b[38;5;21mdivide\u001b[39m(a, b):\n\u001b[1;32m      3\u001b[0m     \u001b[38;5;28;01mreturn\u001b[39;00m a \u001b[38;5;241m/\u001b[39m b\n\u001b[0;32m----> 5\u001b[0m \u001b[38;5;28mprint\u001b[39m(\u001b[43mdivide\u001b[49m\u001b[43m(\u001b[49m\u001b[38;5;241;43m10\u001b[39;49m\u001b[43m,\u001b[49m\u001b[43m \u001b[49m\u001b[38;5;241;43m0\u001b[39;49m\u001b[43m)\u001b[49m)\n",
      "Cell \u001b[0;32mIn[3], line 3\u001b[0m, in \u001b[0;36mdivide\u001b[0;34m(a, b)\u001b[0m\n\u001b[1;32m      2\u001b[0m \u001b[38;5;28;01mdef\u001b[39;00m \u001b[38;5;21mdivide\u001b[39m(a, b):\n\u001b[0;32m----> 3\u001b[0m     \u001b[38;5;28;01mreturn\u001b[39;00m \u001b[43ma\u001b[49m\u001b[43m \u001b[49m\u001b[38;5;241;43m/\u001b[39;49m\u001b[43m \u001b[49m\u001b[43mb\u001b[49m\n",
      "\u001b[0;31mZeroDivisionError\u001b[0m: division by zero"
     ]
    }
   ],
   "source": [
    "#Example of Above Question\n",
    "def divide(a, b):\n",
    "    return a / b\n",
    "\n",
    "print(divide(10, 0))\n"
   ]
  },
  {
   "cell_type": "markdown",
   "id": "37b26af4-536a-46fd-a7e4-089025c210b7",
   "metadata": {},
   "source": [
    "# Q3. Which Python statements are used to catch and handle exceptions? Explain with an example.\n",
    "Ans. Python uses try, except, else, and finally statements to catch and handle exceptions."
   ]
  },
  {
   "cell_type": "code",
   "execution_count": 5,
   "id": "2e5547ec-1208-45c5-959d-3d310f092c91",
   "metadata": {},
   "outputs": [
    {
     "name": "stdin",
     "output_type": "stream",
     "text": [
      "Enter a number:  5\n"
     ]
    },
    {
     "name": "stdout",
     "output_type": "stream",
     "text": [
      "Result is 2.0\n",
      "This will always execute.\n"
     ]
    }
   ],
   "source": [
    "#Example of above Code\n",
    "try:\n",
    "    num = int(input(\"Enter a number: \"))\n",
    "    result = 10 / num\n",
    "except ZeroDivisionError:\n",
    "    print(\"Cannot divide by zero!\")\n",
    "except ValueError:\n",
    "    print(\"Invalid input! Please enter a number.\")\n",
    "else:\n",
    "    print(f\"Result is {result}\")\n",
    "finally:\n",
    "    print(\"This will always execute.\")\n",
    "\n",
    "#try: Block of code to try.\n",
    "#except: Block of code to handle exceptions.\n",
    "#else: Block of code to execute if no exceptions occur.\n",
    "#finally: Block of code to execute regardless of whether an exception occurred or not.\n",
    " "
   ]
  },
  {
   "cell_type": "markdown",
   "id": "64e04865-5f85-43a1-b914-c04e6dd53717",
   "metadata": {},
   "source": [
    "# Q4. Explain with an example: try and else, finally, raise"
   ]
  },
  {
   "cell_type": "code",
   "execution_count": 6,
   "id": "c9ddda2d-2c32-46e0-bfa6-928171ac4229",
   "metadata": {},
   "outputs": [
    {
     "name": "stdout",
     "output_type": "stream",
     "text": [
      "Division successful!\n",
      "Executing finally block...\n",
      "5.0\n",
      "Cannot divide by zero!\n",
      "Executing finally block...\n",
      "Handled division by zero outside the function.\n"
     ]
    }
   ],
   "source": [
    "def divide(a, b):\n",
    "    try:\n",
    "        result = a / b\n",
    "    except ZeroDivisionError:\n",
    "        print(\"Cannot divide by zero!\")\n",
    "        raise\n",
    "    else:\n",
    "        print(\"Division successful!\")\n",
    "        return result\n",
    "    finally:\n",
    "        print(\"Executing finally block...\")\n",
    "\n",
    "try:\n",
    "    print(divide(10, 2))\n",
    "    print(divide(10, 0))\n",
    "except ZeroDivisionError:\n",
    "    print(\"Handled division by zero outside the function.\")\n",
    "\n",
    "    \n",
    "#else: Executes if the try block does not raise an exception.\n",
    "#finally: Executes regardless of whether an exception is raised or not.\n",
    "#raise: Re-raises the exception to be handled outside the function."
   ]
  },
  {
   "cell_type": "markdown",
   "id": "694b9431-ff39-4c6b-9d2e-08b667577250",
   "metadata": {},
   "source": [
    "# Q5. What are Custom Exceptions in Python? Why do we need Custom Exceptions? Explain with an example."
   ]
  },
  {
   "cell_type": "markdown",
   "id": "50e8ee09-5179-426c-946c-db77777aaaeb",
   "metadata": {},
   "source": [
    "Ans. Custom Exceptions are user-defined exceptions. They allow us to create specific error types that can provide more clarity about what went wrong in the code, especially when the built-in exceptions are not descriptive enough for the situation."
   ]
  },
  {
   "cell_type": "code",
   "execution_count": 7,
   "id": "a61ffd5a-144f-4843-b512-30fa8cc66cb0",
   "metadata": {},
   "outputs": [
    {
     "name": "stdout",
     "output_type": "stream",
     "text": [
      "Cannot compute square root of a negative number.\n"
     ]
    }
   ],
   "source": [
    "class NegativeNumberError(Exception):\n",
    "    pass\n",
    "\n",
    "def sqrt(number):\n",
    "    if number < 0:\n",
    "        raise NegativeNumberError(\"Cannot compute square root of a negative number.\")\n",
    "    return number ** 0.5\n",
    "\n",
    "try:\n",
    "    print(sqrt(-10))\n",
    "except NegativeNumberError as e:\n",
    "    print(e)\n"
   ]
  },
  {
   "cell_type": "markdown",
   "id": "8b8ce45d-7531-4185-bc16-6e81a1b8a885",
   "metadata": {},
   "source": [
    "# Q6. Create a custom exception class. Use this class to handle an exception."
   ]
  },
  {
   "cell_type": "code",
   "execution_count": 8,
   "id": "f02780b7-f686-4722-98da-ae33f438791a",
   "metadata": {},
   "outputs": [
    {
     "name": "stdout",
     "output_type": "stream",
     "text": [
      "Error: Age is too low! (age: 15)\n"
     ]
    }
   ],
   "source": [
    "class AgeTooLowError(Exception):\n",
    "    def __init__(self, age, message=\"Age is too low!\"):\n",
    "        self.age = age\n",
    "        self.message = message\n",
    "        super().__init__(self.message)\n",
    "\n",
    "def check_age(age):\n",
    "    if age < 18:\n",
    "        raise AgeTooLowError(age)\n",
    "    else:\n",
    "        print(\"Age is acceptable.\")\n",
    "\n",
    "try:\n",
    "    check_age(15)\n",
    "except AgeTooLowError as e:\n",
    "    print(f\"Error: {e} (age: {e.age})\")\n"
   ]
  },
  {
   "cell_type": "code",
   "execution_count": null,
   "id": "e7f94c61-34c7-47d8-933a-fece2eff501b",
   "metadata": {},
   "outputs": [],
   "source": []
  }
 ],
 "metadata": {
  "kernelspec": {
   "display_name": "Python 3 (ipykernel)",
   "language": "python",
   "name": "python3"
  },
  "language_info": {
   "codemirror_mode": {
    "name": "ipython",
    "version": 3
   },
   "file_extension": ".py",
   "mimetype": "text/x-python",
   "name": "python",
   "nbconvert_exporter": "python",
   "pygments_lexer": "ipython3",
   "version": "3.10.8"
  }
 },
 "nbformat": 4,
 "nbformat_minor": 5
}
