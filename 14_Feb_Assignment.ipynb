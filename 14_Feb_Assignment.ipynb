{
 "cells": [
  {
   "cell_type": "markdown",
   "id": "8199ad45-5a0c-4305-a818-f9731837c359",
   "metadata": {},
   "source": [
    "# Q1). What is multithreading in python?Why is it used? Name the module used to handle threads in python\n",
    "\n",
    "Ans.Multithreading is a programming concept where multiple threads are spawned by a process to execute tasks concurrently. In Python, it allows for the execution of multiple parts of a program at the same time. This is useful for I/O-bound tasks where the program is waiting for external events (like file I/O, network communication), allowing other parts of the program to continue running without being blocked.\n",
    "\n",
    "Multithreading is used to improve the performance of a program by enabling concurrent execution. It can make a program more efficient by utilizing the time when one thread is waiting for I/O operations or other blocking tasks, allowing other threads to run.\n",
    "\n",
    "The module used to handle threads in Python is the 'threading' module.\n",
    "\n",
    "The threading module is used for creating and managing threads. It provides a high-level interface to work with threads and includes various functions and classes to help manage thread creation, execution, and synchronization.\n",
    "\n",
    "Use of Specific Threading function\n",
    "activeCount: This function returns the number of Thread objects currently alive.\n",
    "currentThread: This function returns the current Thread object corresponding to the caller's thread of control.\n",
    "enumerate: This function returns a list of all Thread objects currently alive."
   ]
  },
  {
   "cell_type": "markdown",
   "id": "97c8976f-6f8d-4898-917a-f3e3545765f1",
   "metadata": {},
   "source": [
    "# Q2).Why threading module used?Write the use of the following functions\n",
    "activeCount()\n",
    "currentThread()\n",
    "enumerate()\n",
    "\n",
    "Ans.activeCount(): This function returns the number of Thread objects currently alive.\n",
    "currentThread(): This function returns the current Thread object corresponding to the caller's thread of control.\n",
    "enumerate(): This function returns a list of all Thread objects currently alive.te)"
   ]
  },
  {
   "cell_type": "markdown",
   "id": "e344a060-ed32-4639-b8f9-d0a36726aefe",
   "metadata": {},
   "source": [
    "# Q3). Explain the following functions\r",
    "( ru ()n\r\n",
    " sta ()rt\r\n",
    " j ()on\r\n",
    "' isA (liAns.\n",
    "ve)\n",
    "run: This method represents the thread’s activity and is called by the start method. It can be overridden in a subclass to define the thread's behavi\n",
    "or.\n",
    "start: This method starts the thread’s activity by invoking the run method in a separate thread of contr\n",
    "ol.\n",
    "join: This method blocks the calling thread until the thread whose join method is called terminates or the optional timeout occu\n",
    "rs.\n",
    "isAlive: This method returns whether the thread is alive (i.e., it is still running or ready to run)."
   ]
  },
  {
   "cell_type": "markdown",
   "id": "e812fb20-13f4-44a3-94c1-32e86a3aa28b",
   "metadata": {},
   "source": [
    "# Q4). rite a python program to create two threads. Thread one must print the list of squares and thread two  must print the list ofcubes\n",
    "s"
   ]
  },
  {
   "cell_type": "code",
   "execution_count": 1,
   "id": "cde1038e-4595-4cda-8536-c4a58b3e989b",
   "metadata": {},
   "outputs": [
    {
     "name": "stdout",
     "output_type": "stream",
     "text": [
      "Squares: [0, 1, 4, 9, 16, 25, 36, 49, 64, 81]\n",
      "Cubes: [0, 1, 8, 27, 64, 125, 216, 343, 512, 729]\n"
     ]
    }
   ],
   "source": [
    "import threading\n",
    "\n",
    "def print_squares():\n",
    "    squares = [i ** 2 for i in range(10)]\n",
    "    print(\"Squares:\", squares)\n",
    "\n",
    "def print_cubes():\n",
    "    cubes = [i ** 3 for i in range(10)]\n",
    "    print(\"Cubes:\", cubes)\n",
    "\n",
    "# Create threads\n",
    "thread1 = threading.Thread(target=print_squares)\n",
    "thread2 = threading.Thread(target=print_cubes)\n",
    "\n",
    "# Start threads\n",
    "thread1.start()\n",
    "thread2.start()\n",
    "\n",
    "# Wait for threads to complete\n",
    "thread1.join()\n",
    "thread2.join()"
   ]
  },
  {
   "cell_type": "markdown",
   "id": "ebbefd9e-0828-40fd-9c23-f5dfd633fce5",
   "metadata": {},
   "source": [
    "# Q5). State advantages and disadvantages of multithreading\n",
    "\n",
    "Ans.Advantages:\n",
    "\n",
    "Improved Performance: Especially for I/O-bound and high-latency operations.\n",
    "Responsive Applications: Keeps applications responsive, especially those with user interfaces.\n",
    "Resource Sharing: Threads share the same memory space, which makes data sharing easier.\n",
    "\n",
    "\n",
    "Disadvantages:\n",
    "\n",
    "Complexity: Writing multithreaded code can be complex and prone to errors.\n",
    "Race Conditions: When two threads modify a shared resource concurrently, it can lead to inconsistent states.\n",
    "Deadlocks: When two or more threads are waiting for each other to release resources, causing them to hang indefinitely."
   ]
  },
  {
   "cell_type": "markdown",
   "id": "52b700ad-e7be-43ba-8961-bc7f955cb630",
   "metadata": {},
   "source": [
    "# Q6). Explain deadlocks and race conditions.\n",
    "\n",
    "Ans.\n",
    "\n",
    "Deadlocks:\n",
    "\n",
    "\n",
    "A deadlock occurs when two or more threads are waiting for each other to release resources, causing them to be stuck in a permanent waiting state. This can happen when multiple threads have circular dependencies on resources.\n",
    "\n",
    "Race Conditions:\n",
    "\n",
    "\n",
    "A race condition occurs when the outcome of a program depends on the sequence or timing of uncontrollable events such as thread execution order. It typically happens when multiple threads access and modify shared data concurrently, leading to unpredictable results.\n",
    "\n",
    "Understanding and managing these conditions is crucial for developing robust multithreaded applications."
   ]
  },
  {
   "cell_type": "code",
   "execution_count": null,
   "id": "9e88d2a2-70f2-4fce-8b05-8b22b92208fa",
   "metadata": {},
   "outputs": [],
   "source": []
  }
 ],
 "metadata": {
  "kernelspec": {
   "display_name": "Python 3 (ipykernel)",
   "language": "python",
   "name": "python3"
  },
  "language_info": {
   "codemirror_mode": {
    "name": "ipython",
    "version": 3
   },
   "file_extension": ".py",
   "mimetype": "text/x-python",
   "name": "python",
   "nbconvert_exporter": "python",
   "pygments_lexer": "ipython3",
   "version": "3.11.7"
  }
 },
 "nbformat": 4,
 "nbformat_minor": 5
}
