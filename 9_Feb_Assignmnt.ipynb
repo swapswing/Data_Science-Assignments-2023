{
 "cells": [
  {
   "cell_type": "markdown",
   "id": "85ddcb8a-d1a7-4467-a978-c1b79eda6251",
   "metadata": {},
   "source": [
    "Q1, Create a vehicle class with an init method having instance variables as name_of_vehicle, max_speed\n",
    "and average_of_vehicle."
   ]
  },
  {
   "cell_type": "code",
   "execution_count": 1,
   "id": "e452597e-9dd8-4ace-b1a5-226e98ae2f5b",
   "metadata": {},
   "outputs": [],
   "source": [
    "class Vehicle:\n",
    "    def __init__(self, name_of_vehicle, max_speed, average_of_vehicle):\n",
    "        self.name_of_vehicle = name_of_vehicle\n",
    "        self.max_speed = max_speed\n",
    "        self.average_of_vehicle = average_of_vehicle"
   ]
  },
  {
   "cell_type": "markdown",
   "id": "50473c9a-ed6d-4f52-b332-4854813e309e",
   "metadata": {},
   "source": [
    "Q2. Create a child class car from the vehicle class created in Que 1, which will inherit the vehicle class.\n",
    "Create a method named seating_capacity which takes capacity as an argument and returns the name of\n",
    "the vehicle and its seating capacity."
   ]
  },
  {
   "cell_type": "code",
   "execution_count": 4,
   "id": "c19eac9b-3a8c-4c3b-baec-8571b0833b73",
   "metadata": {},
   "outputs": [
    {
     "name": "stdout",
     "output_type": "stream",
     "text": [
      "The Toyota Camry has a seating capacity of 5 people.\n"
     ]
    }
   ],
   "source": [
    "# Q1. Creating a Vehicle Class\n",
    "class Vehicle:\n",
    "    def __init__(self, name_of_vehicle, max_speed, average_of_vehicle):\n",
    "        self.name_of_vehicle = name_of_vehicle\n",
    "        self.max_speed = max_speed\n",
    "        self.average_of_vehicle = average_of_vehicle\n",
    "\n",
    "# Q2. Creating a Child Class Car\n",
    "class Car(Vehicle):\n",
    "    def seating_capacity(self, capacity):\n",
    "        return f\"The {self.name_of_vehicle} has a seating capacity of {capacity} people.\"\n",
    "\n",
    "# Example Usage\n",
    "car = Car(\"Toyota Camry\", 180, 25)\n",
    "print(car.seating_capacity(5))  # Output: The Toyota Camry has a seating capacity of 5 people."
   ]
  },
  {
   "cell_type": "markdown",
   "id": "b0d41762-5c3b-4ee2-84fd-7ebb297aba17",
   "metadata": {},
   "source": [
    "Q3. What is multiple inheritance? Write a python code to demonstrate multiple inheritance.\n",
    "\n",
    "\n",
    "Ans.Multiple inheritance is a feature in object-oriented programming where a class can inherit attributes and methods from more than one parent class. This allows for the combination of features and functionalities from different classes."
   ]
  },
  {
   "cell_type": "code",
   "execution_count": 5,
   "id": "b92a297a-ef5c-41b3-a095-1fd39c7a3b69",
   "metadata": {},
   "outputs": [
    {
     "name": "stdout",
     "output_type": "stream",
     "text": [
      "Method from Parent1\n",
      "Method from Parent2\n"
     ]
    }
   ],
   "source": [
    "#Example of multiple inheritance\n",
    "class Parent1:\n",
    "    def method1(self):\n",
    "        print(\"Method from Parent1\")\n",
    "\n",
    "class Parent2:\n",
    "    def method2(self):\n",
    "        print(\"Method from Parent2\")\n",
    "\n",
    "class Child(Parent1, Parent2):\n",
    "    pass\n",
    "\n",
    "obj = Child()\n",
    "obj.method1()  # Output: Method from Parent1\n",
    "obj.method2()  # Output: Method from Parent2"
   ]
  },
  {
   "cell_type": "markdown",
   "id": "bc44b22e-a8a2-4daa-b863-345f74105f66",
   "metadata": {},
   "source": [
    "Q4. What are getter and setter in python? Create a class and create a getter and a setter method in this\n",
    "class.\n",
    "\n",
    "\n",
    "Ans.Getter and setter methods are used to access and modify the private attributes of a class respectively, providing control over how these attributes are accessed and modified."
   ]
  },
  {
   "cell_type": "code",
   "execution_count": 6,
   "id": "049105fd-fa6e-4f32-8d1f-34e0096b92b9",
   "metadata": {},
   "outputs": [
    {
     "name": "stdout",
     "output_type": "stream",
     "text": [
      "0\n",
      "10\n"
     ]
    }
   ],
   "source": [
    "#Create a class and create a getter and a setter method in this class.\n",
    "class MyClass:\n",
    "    def __init__(self):\n",
    "        self._value = 0  # private attribute\n",
    "\n",
    "    def get_value(self):\n",
    "        return self._value  # getter method\n",
    "\n",
    "    def set_value(self, new_value):\n",
    "        self._value = new_value  # setter method\n",
    "\n",
    "# Usage\n",
    "obj = MyClass()\n",
    "print(obj.get_value())  # Output: 0\n",
    "obj.set_value(10)\n",
    "print(obj.get_value())  # Output: 10"
   ]
  },
  {
   "cell_type": "code",
   "execution_count": null,
   "id": "f0079e85-f790-4a62-8471-6274872d6bb9",
   "metadata": {},
   "outputs": [],
   "source": []
  }
 ],
 "metadata": {
  "kernelspec": {
   "display_name": "Python 3 (ipykernel)",
   "language": "python",
   "name": "python3"
  },
  "language_info": {
   "codemirror_mode": {
    "name": "ipython",
    "version": 3
   },
   "file_extension": ".py",
   "mimetype": "text/x-python",
   "name": "python",
   "nbconvert_exporter": "python",
   "pygments_lexer": "ipython3",
   "version": "3.10.8"
  }
 },
 "nbformat": 4,
 "nbformat_minor": 5
}
