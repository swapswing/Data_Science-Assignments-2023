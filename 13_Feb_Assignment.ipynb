{
 "cells": [
  {
   "cell_type": "markdown",
   "id": "5591a64c-a59a-449e-b67b-56e89baee3a1",
   "metadata": {},
   "source": [
    "# Q1. Explain why we have to use the Exception class while creating a Custom Exception.\n",
    "Ans.When creating a custom exception in Python, it's important to use the Exception class (or one of its subclasses) as the base class. This ensures that your custom exception will be recognized and handled correctly by the Python runtime and other code that follows standard exception handling practices.\n",
    "\n",
    "Reasons for using the Exception class:\n",
    "\n",
    "1. Consistency: By inheriting from Exception, your custom exception will be part of the standard exception hierarchy, making it easier for other developers to understand and handle.\n",
    "2. Catchability: If you don't inherit from Exception, your custom exception won't be caught by a generic except Exception clause, potentially causing unhandled exceptions.\n",
    "3. Standardization: It allows you to leverage existing functionality in the Exception class, such as message storage and retrieval, and ensures compatibility with built-in exception handling mechanisms.\n",
    "4. Readability: Custom exceptions that follow the standard hierarchy are more readable and maintainable. Other developers will be able to quickly understand their purpose and usage."
   ]
  },
  {
   "cell_type": "markdown",
   "id": "7c9e8f13-56ef-4fee-99a2-ec8022ae2acf",
   "metadata": {},
   "source": [
    "# Q2. Write a python program to print Python Exception Hierarchy."
   ]
  },
  {
   "cell_type": "code",
   "execution_count": 1,
   "id": "db4e9b96-9764-472b-b045-5204bc616fb2",
   "metadata": {},
   "outputs": [],
   "source": [
    "import inspect\n",
    "import logging\n",
    "\n",
    "logging.basicConfig(filename = \"error.log\" ,level=logging.INFO)\n",
    "\n",
    "def print_exception_hierarchy(exception_class, indent=0):\n",
    "    logging.info('%s%s', ' ' * indent, exception_class.__name__)\n",
    "    for subclass in exception_class.__subclasses__():\n",
    "        print_exception_hierarchy(subclass, indent + 4)\n",
    "\n",
    "print_exception_hierarchy(BaseException)"
   ]
  },
  {
   "cell_type": "markdown",
   "id": "5558aa22-3aea-41b3-8b5a-0cc5485ae4cf",
   "metadata": {},
   "source": [
    "# Q3. What errors are defined in the ArithmeticError class? Explain any two with an example.\n",
    "Ans.The ArithmeticError class has several subclasses. Let's use logging to explain two of them:\n",
    "\n",
    "ZeroDivisionError\n",
    "\n",
    "OverflowError"
   ]
  },
  {
   "cell_type": "code",
   "execution_count": 3,
   "id": "324b34ea-85c0-40a9-8476-d45e18a6c461",
   "metadata": {},
   "outputs": [],
   "source": [
    "#ZeroDivisionError\n",
    "import logging\n",
    "\n",
    "logging.basicConfig(level=logging.INFO)\n",
    "\n",
    "try:\n",
    "    result = 10 / 0\n",
    "except ZeroDivisionError as e:\n",
    "    logging.error(\"ZeroDivisionError: %s\", e)"
   ]
  },
  {
   "cell_type": "code",
   "execution_count": 4,
   "id": "24308332-e171-4418-8c8a-adbfcf850bde",
   "metadata": {},
   "outputs": [],
   "source": [
    "#Overflow Error\n",
    "import math\n",
    "import logging\n",
    "\n",
    "logging.basicConfig(level=logging.INFO)\n",
    "\n",
    "try:\n",
    "    result = math.exp(1000)\n",
    "except OverflowError as e:\n",
    "    logging.error(\"OverflowError: %s\", e)"
   ]
  },
  {
   "cell_type": "markdown",
   "id": "5e6fa7ac-6f99-485e-9b51-e19ba40d49ca",
   "metadata": {},
   "source": [
    "# Q4. Why LookupError class is used? Explain with an example KeyError and IndexError.\n",
    "Ans.The LookupError class is the base class for errors raised when a key or index used on a mapping or sequence is invalid. It includes subclasses like KeyError and IndexError."
   ]
  },
  {
   "cell_type": "code",
   "execution_count": 5,
   "id": "bd63b046-52d0-4977-ae13-aeee1a74d7e1",
   "metadata": {},
   "outputs": [],
   "source": [
    "#KeyError\n",
    "import logging\n",
    "\n",
    "logging.basicConfig(level=logging.INFO)\n",
    "\n",
    "my_dict = {'name': 'Alice'}\n",
    "\n",
    "try:\n",
    "    value = my_dict['age']\n",
    "except KeyError as e:\n",
    "    logging.error(\"KeyError: %s\", e)"
   ]
  },
  {
   "cell_type": "code",
   "execution_count": 6,
   "id": "5dba70e2-370b-443e-82a0-d6d70cf7691b",
   "metadata": {},
   "outputs": [],
   "source": [
    "#IndexError\n",
    "import logging\n",
    "\n",
    "logging.basicConfig(level=logging.INFO)\n",
    "\n",
    "my_list = [1, 2, 3]\n",
    "\n",
    "try:\n",
    "    value = my_list[5]\n",
    "except IndexError as e:\n",
    "    logging.error(\"IndexError: %s\", e)"
   ]
  },
  {
   "cell_type": "markdown",
   "id": "b72570f2-aeed-4ede-91cb-f7249673e00a",
   "metadata": {},
   "source": [
    "# Q5. Explain ImportError. What is ModuleNotFoundError?\n",
    "ImportError is raised when an import statement fails to find the module definition or when a name cannot be found in the module.\n",
    "\n",
    "ModuleNotFoundError is a subclass of ImportError and is specifically raised when a module cannot be located."
   ]
  },
  {
   "cell_type": "code",
   "execution_count": 7,
   "id": "51ba713b-2f14-4e22-86b5-a577edd65bd3",
   "metadata": {},
   "outputs": [],
   "source": [
    "#Import Error\n",
    "import logging\n",
    "\n",
    "logging.basicConfig(level=logging.INFO)\n",
    "\n",
    "try:\n",
    "    from math import non_existent_function\n",
    "except ImportError as e:\n",
    "    logging.error(\"ImportError: %s\", e)"
   ]
  },
  {
   "cell_type": "code",
   "execution_count": 8,
   "id": "3c350ac9-44dc-4617-ac01-bb63f24c2882",
   "metadata": {},
   "outputs": [],
   "source": [
    "#module not found error\n",
    "import logging\n",
    "\n",
    "logging.basicConfig(level=logging.INFO)\n",
    "\n",
    "try:\n",
    "    import non_existent_module\n",
    "except ModuleNotFoundError as e:\n",
    "    logging.error(\"ModuleNotFoundError: %s\", e)"
   ]
  },
  {
   "cell_type": "markdown",
   "id": "54ce9953-6eb8-485d-98f2-5370d777d2be",
   "metadata": {},
   "source": [
    "# Q6. List down some best practices for exception handling in python.\n"
   ]
  },
  {
   "cell_type": "code",
   "execution_count": 12,
   "id": "5c3fe986-6a16-48b6-a9ae-925d2c9eb6c9",
   "metadata": {},
   "outputs": [],
   "source": [
    "#Be Specific with Exceptions: Catch specific exceptions rather than using a broad except clause. This ensures you handle only expected errors.\n",
    "import logging\n",
    "\n",
    "logging.basicConfig(level=logging.INFO)\n",
    "\n",
    "try:\n",
    "    result = 10 / 0\n",
    "except ZeroDivisionError:\n",
    "    logging.error(\"Cannot divide by zero\")"
   ]
  },
  {
   "cell_type": "code",
   "execution_count": 13,
   "id": "16ba01b1-7564-41c9-b0b4-2cca6fbf9430",
   "metadata": {},
   "outputs": [
    {
     "ename": "NameError",
     "evalue": "name 'file' is not defined",
     "output_type": "error",
     "traceback": [
      "\u001b[1;31m---------------------------------------------------------------------------\u001b[0m",
      "\u001b[1;31mNameError\u001b[0m                                 Traceback (most recent call last)",
      "Cell \u001b[1;32mIn[13], line 12\u001b[0m\n\u001b[0;32m     10\u001b[0m     logging\u001b[38;5;241m.\u001b[39merror(\u001b[38;5;124m\"\u001b[39m\u001b[38;5;124mFile error\u001b[39m\u001b[38;5;124m\"\u001b[39m)\n\u001b[0;32m     11\u001b[0m \u001b[38;5;28;01mfinally\u001b[39;00m:\n\u001b[1;32m---> 12\u001b[0m     file\u001b[38;5;241m.\u001b[39mclose()\n",
      "\u001b[1;31mNameError\u001b[0m: name 'file' is not defined"
     ]
    }
   ],
   "source": [
    "#Use Finally for Cleanup: Use the finally block to release resources.\n",
    "import logging\n",
    "\n",
    "logging.basicConfig(level=logging.INFO)\n",
    "\n",
    "try:\n",
    "    file = open('file.txt', 'r')\n",
    "    # Perform file operations\n",
    "except IOError:\n",
    "    logging.error(\"File error\")\n",
    "finally:\n",
    "    file.close()"
   ]
  },
  {
   "cell_type": "code",
   "execution_count": 14,
   "id": "0f321b37-a7e9-4221-855c-296fa6378346",
   "metadata": {},
   "outputs": [],
   "source": [
    "#Avoid Bare Except: Avoid using bare except clauses.\n",
    "import logging\n",
    "\n",
    "logging.basicConfig(level=logging.INFO)\n",
    "\n",
    "try:\n",
    "    result = some_function()\n",
    "except Exception as e:\n",
    "    logging.error(\"Error: %s\", e)"
   ]
  },
  {
   "cell_type": "code",
   "execution_count": 15,
   "id": "3409b31a-4211-4235-a4d6-7bc1dbec4c7a",
   "metadata": {},
   "outputs": [],
   "source": [
    "# Use Built-in Exceptions: Use built-in exception classes where appropriate. Only create custom exceptions when necessary."
   ]
  },
  {
   "cell_type": "code",
   "execution_count": 16,
   "id": "89517247-492a-42be-ab9c-16d8f620a379",
   "metadata": {},
   "outputs": [],
   "source": [
    "#Log Exceptions: Log exceptions instead of just printing them. This is useful for debugging and auditing.\n",
    "import logging\n",
    "\n",
    "logging.basicConfig(level=logging.INFO)\n",
    "\n",
    "try:\n",
    "    result = 10 / 0\n",
    "except ZeroDivisionError as e:\n",
    "    logging.error(\"Attempted to divide by zero\", exc_info=True)\n"
   ]
  },
  {
   "cell_type": "code",
   "execution_count": 19,
   "id": "3f1da54b-cb90-4074-9f9c-8271628ce6e0",
   "metadata": {},
   "outputs": [
    {
     "ename": "NameError",
     "evalue": "name 'SomeSpecificException' is not defined",
     "output_type": "error",
     "traceback": [
      "\u001b[1;31m---------------------------------------------------------------------------\u001b[0m",
      "\u001b[1;31mNameError\u001b[0m                                 Traceback (most recent call last)",
      "Cell \u001b[1;32mIn[19], line 7\u001b[0m\n\u001b[0;32m      6\u001b[0m \u001b[38;5;28;01mtry\u001b[39;00m:\n\u001b[1;32m----> 7\u001b[0m     risky_operation()\n\u001b[0;32m      8\u001b[0m \u001b[38;5;28;01mexcept\u001b[39;00m SomeSpecificException :\n",
      "\u001b[1;31mNameError\u001b[0m: name 'risky_operation' is not defined",
      "\nDuring handling of the above exception, another exception occurred:\n",
      "\u001b[1;31mNameError\u001b[0m                                 Traceback (most recent call last)",
      "Cell \u001b[1;32mIn[19], line 8\u001b[0m\n\u001b[0;32m      6\u001b[0m \u001b[38;5;28;01mtry\u001b[39;00m:\n\u001b[0;32m      7\u001b[0m     risky_operation()\n\u001b[1;32m----> 8\u001b[0m \u001b[38;5;28;01mexcept\u001b[39;00m SomeSpecificException :\n\u001b[0;32m      9\u001b[0m     logging\u001b[38;5;241m.\u001b[39mwarning(\u001b[38;5;124m\"\u001b[39m\u001b[38;5;124mSuppressed exception, be cautious.\u001b[39m\u001b[38;5;124m\"\u001b[39m)\n",
      "\u001b[1;31mNameError\u001b[0m: name 'SomeSpecificException' is not defined"
     ]
    }
   ],
   "source": [
    "#Don't Suppress Exceptions: Avoid code that suppresses exceptions and hides errors.\n",
    "import logging\n",
    "\n",
    "logging.basicConfig(level=logging.INFO)\n",
    "\n",
    "try:\n",
    "    risky_operation()\n",
    "except SomeSpecificException :\n",
    "    logging.warning(\"Suppressed exception, be cautious.\")"
   ]
  },
  {
   "cell_type": "code",
   "execution_count": 20,
   "id": "3b9c9c69-12c3-496e-b5e1-48bd23a0df38",
   "metadata": {},
   "outputs": [],
   "source": [
    "#Provide Useful Error Messages: Provide meaningful error messages to make it clear what went wrong.\n",
    "import logging\n",
    "\n",
    "logging.basicConfig(level=logging.INFO)\n",
    "\n",
    "try:\n",
    "    result = 10 / 0\n",
    "except ZeroDivisionError:\n",
    "    logging.error(\"Error: Division by zero is not allowed\")\n"
   ]
  },
  {
   "cell_type": "code",
   "execution_count": 21,
   "id": "e8be61b2-94ba-44b0-98e8-e489e036c8b8",
   "metadata": {},
   "outputs": [],
   "source": [
    "#Use Custom Exceptions for Specific Cases: Define custom exceptions to represent specific error conditions in your application.\n",
    "import logging\n",
    "\n",
    "logging.basicConfig(level=logging.INFO)\n",
    "\n",
    "class InsufficientFundsError(Exception):\n",
    "    pass\n",
    "\n",
    "def withdraw(amount, balance):\n",
    "    if amount > balance:\n",
    "        raise InsufficientFundsError(\"Insufficient funds to complete the withdrawal\")\n",
    "\n",
    "try:\n",
    "    withdraw(100, 50)\n",
    "except InsufficientFundsError as e:\n",
    "    logging.error(\"Custom Exception: %s\", e)"
   ]
  },
  {
   "cell_type": "code",
   "execution_count": null,
   "id": "7afeb1b5-efbc-47fa-ae37-e50b46dec7d2",
   "metadata": {},
   "outputs": [],
   "source": []
  }
 ],
 "metadata": {
  "kernelspec": {
   "display_name": "Python 3 (ipykernel)",
   "language": "python",
   "name": "python3"
  },
  "language_info": {
   "codemirror_mode": {
    "name": "ipython",
    "version": 3
   },
   "file_extension": ".py",
   "mimetype": "text/x-python",
   "name": "python",
   "nbconvert_exporter": "python",
   "pygments_lexer": "ipython3",
   "version": "3.11.7"
  }
 },
 "nbformat": 4,
 "nbformat_minor": 5
}
