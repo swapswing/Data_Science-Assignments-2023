{
 "cells": [
  {
   "cell_type": "markdown",
   "id": "5fef6d11-5765-4ec2-9284-7e0a087c8d85",
   "metadata": {},
   "source": [
    "Q1. Explain Class and Object with respect to Object-Oriented Programming. Give a suitable example.\n",
    "\n",
    "\n",
    "Ans.Class: In object-oriented programming (OOP), a class is a blueprint for creating objects. It defines attributes (data members) and methods (functions) that characterize the objects of the class.\n",
    "\n",
    "Object: An object is an instance of a class. It's a concrete entity created based on the blueprint provided by the class. Objects can have their own unique data and behavior, while also inheriting attributes and methods from their class."
   ]
  },
  {
   "cell_type": "code",
   "execution_count": 1,
   "id": "5733636f-8623-41e3-a5f6-7c2df93d250d",
   "metadata": {},
   "outputs": [
    {
     "name": "stdout",
     "output_type": "stream",
     "text": [
      "Toyota\n",
      "Tesla Model S is being driven.\n"
     ]
    }
   ],
   "source": [
    "# Class definition\n",
    "class Car:\n",
    "    def __init__(self, brand, model):\n",
    "        self.brand = brand\n",
    "        self.model = model\n",
    "\n",
    "    def drive(self):\n",
    "        print(f\"{self.brand} {self.model} is being driven.\")\n",
    "\n",
    "# Creating objects/instances of the Car class\n",
    "car1 = Car(\"Toyota\", \"Corolla\")\n",
    "car2 = Car(\"Tesla\", \"Model S\")\n",
    "\n",
    "# Accessing object attributes and methods\n",
    "print(car1.brand)  # Output: Toyota\n",
    "car2.drive()       # Output: Tesla Model S is being driven.\n"
   ]
  },
  {
   "cell_type": "markdown",
   "id": "cfd759e9-54fc-4945-b9a4-65b325224494",
   "metadata": {},
   "source": [
    "Q2. Name the four pillars of OOPs.\n",
    "\n",
    "\n",
    "Ans.\n",
    "Encapsulation: Bundling of data and methods that operate on the data into a single unit (class). It restricts access to some of the objects components and hides the internal state from the outside world.\n",
    "\n",
    "Abstraction  : Simplifying complex reality by modeling classes appropriate to the problem, and working at the most relevant level of inheritance.\n",
    "\n",
    "Inheritance: Mechanism where a new class (subclass) is derived from an existing class (superclass). It promotes code reusability and allows the creation of a hierarchy of classes.\n",
    "\n",
    "Polymorphism: Ability to present the same interface for different data types. It allows methods to act differently based on the object that invokes them."
   ]
  },
  {
   "cell_type": "markdown",
   "id": "a6929f46-f71a-445a-aedc-fb270061ffd5",
   "metadata": {},
   "source": [
    "Q3. Explain why the __init__() function is used. Give a suitable example.\n",
    "\n",
    "\n",
    "Ans.\n",
    "The __init__() function is a special method in Python classes used to initialize objects. It gets called automatically when a new object is created."
   ]
  },
  {
   "cell_type": "code",
   "execution_count": 2,
   "id": "48f250e2-c169-4d22-9dc3-c040c7d4e61d",
   "metadata": {},
   "outputs": [
    {
     "name": "stdout",
     "output_type": "stream",
     "text": [
      "Alice\n",
      "30\n"
     ]
    }
   ],
   "source": [
    "class Person:\n",
    "    def __init__(self, name, age):\n",
    "        self.name = name\n",
    "        self.age = age\n",
    "\n",
    "# Creating an object of the Person class\n",
    "person1 = Person(\"Alice\", 30)\n",
    "\n",
    "print(person1.name)  # Output: Alice\n",
    "print(person1.age)   # Output: 30\n"
   ]
  },
  {
   "cell_type": "markdown",
   "id": "6837ef71-590a-4caa-ad0c-79b1df657bb9",
   "metadata": {},
   "source": [
    "Q4. Why self is used in OOPs?\n",
    "\n",
    "Ans. self is a reference to the instance of the class. It allows access to the attributes and methods of the class within other methods. When you call a method of a class instance, self is automatically passed as the first argument."
   ]
  },
  {
   "cell_type": "markdown",
   "id": "7b1304ee-f3fc-44c0-86f0-572fa9378541",
   "metadata": {},
   "source": [
    "Q5. What is inheritance? Give an example for each type of inheritance.\n",
    "\n",
    "\n",
    "Ans.Inheritance is a mechanism in which a new class is derived from an existing class. The new class inherits attributes and methods from the existing class. It promotes code reusability and establishes a hierarchy of classes."
   ]
  },
  {
   "cell_type": "code",
   "execution_count": 5,
   "id": "18c2b1fe-d075-45c6-bc36-15a7072b6c22",
   "metadata": {},
   "outputs": [
    {
     "name": "stdout",
     "output_type": "stream",
     "text": [
      "Animal makes a sound\n",
      "Dog barks\n"
     ]
    }
   ],
   "source": [
    "#Single  Inheritance\n",
    "class Animal:\n",
    "    def sound(self):\n",
    "        print(\"Animal makes a sound\")\n",
    "\n",
    "class Dog(Animal):\n",
    "    def bark(self):\n",
    "        print(\"Dog barks\")\n",
    "\n",
    "dog = Dog()\n",
    "dog.sound()  # Output: Animal makes a sound\n",
    "dog.bark()   # Output: Dog barks"
   ]
  },
  {
   "cell_type": "code",
   "execution_count": 6,
   "id": "871537a6-01e3-48b2-ab02-346b41d88c16",
   "metadata": {},
   "outputs": [
    {
     "name": "stdout",
     "output_type": "stream",
     "text": [
      "Method of class A\n",
      "Method of class B\n",
      "Method of class C\n"
     ]
    }
   ],
   "source": [
    "#Multiple Inheritance\n",
    "class A:\n",
    "    def method_A(self):\n",
    "        print(\"Method of class A\")\n",
    "\n",
    "class B:\n",
    "    def method_B(self):\n",
    "        print(\"Method of class B\")\n",
    "\n",
    "class C(A, B):  # Multiple inheritance\n",
    "    def method_C(self):\n",
    "        print(\"Method of class C\")\n",
    "\n",
    "obj = C()\n",
    "obj.method_A()  # Output: Method of class A\n",
    "obj.method_B()  # Output: Method of class B\n",
    "obj.method_C()  # Output: Method of class C"
   ]
  },
  {
   "cell_type": "code",
   "execution_count": 7,
   "id": "c1c7267b-be0a-4e83-960b-d4f8281ee683",
   "metadata": {},
   "outputs": [
    {
     "name": "stdout",
     "output_type": "stream",
     "text": [
      "Method of class A\n",
      "Method of class B\n",
      "Method of class C\n"
     ]
    }
   ],
   "source": [
    "#Multilevel  Inheritance\n",
    "class A:\n",
    "    def method_A(self):\n",
    "        print(\"Method of class A\")\n",
    "\n",
    "class B(A):\n",
    "    def method_B(self):\n",
    "        print(\"Method of class B\")\n",
    "\n",
    "class C(B):  # Multilevel inheritance\n",
    "    def method_C(self):\n",
    "        print(\"Method of class C\")\n",
    "\n",
    "obj = C()\n",
    "obj.method_A()  # Output: Method of class A\n",
    "obj.method_B()  # Output: Method of class B\n",
    "obj.method_C()  # Output: Method of class C"
   ]
  },
  {
   "cell_type": "code",
   "execution_count": 8,
   "id": "21736ba8-188f-42d6-a47b-764b0487be99",
   "metadata": {},
   "outputs": [
    {
     "ename": "SyntaxError",
     "evalue": "invalid syntax (3460205789.py, line 1)",
     "output_type": "error",
     "traceback": [
      "\u001b[0;36m  Cell \u001b[0;32mIn[8], line 1\u001b[0;36m\u001b[0m\n\u001b[0;31m    Hierarchical Inheritance\u001b[0m\n\u001b[0m                 ^\u001b[0m\n\u001b[0;31mSyntaxError\u001b[0m\u001b[0;31m:\u001b[0m invalid syntax\n"
     ]
    }
   ],
   "source": [
    "Hierarchical Inheritance\n",
    "class Parent:\n",
    "    def method_parent(self):\n",
    "        print(\"Method of Parent class\")\n",
    "\n",
    "class Child1(Parent):\n",
    "    def method_child1(self):\n",
    "        print(\"Method of Child1 class\")\n",
    "\n",
    "class Child2(Parent):\n",
    "    def method_child2(self):\n",
    "        print(\"Method of Child2 class\")\n",
    "\n",
    "child1 = Child1()\n",
    "child1.method_parent()  # Output: Method of Parent class\n",
    "child1.method_child1()  # Output: Method of Child1 class\n",
    "\n",
    "child2 = Child2()\n",
    "child2.method_parent()  # Output: Method of Parent class\n",
    "child2.method_child2()  # Output: Method of Child2 class"
   ]
  },
  {
   "cell_type": "code",
   "execution_count": null,
   "id": "cf384d43-9cc5-40ca-8543-60370b767d56",
   "metadata": {},
   "outputs": [],
   "source": []
  }
 ],
 "metadata": {
  "kernelspec": {
   "display_name": "Python 3 (ipykernel)",
   "language": "python",
   "name": "python3"
  },
  "language_info": {
   "codemirror_mode": {
    "name": "ipython",
    "version": 3
   },
   "file_extension": ".py",
   "mimetype": "text/x-python",
   "name": "python",
   "nbconvert_exporter": "python",
   "pygments_lexer": "ipython3",
   "version": "3.10.8"
  }
 },
 "nbformat": 4,
 "nbformat_minor": 5
}
