{
 "cells": [
  {
   "cell_type": "code",
   "execution_count": 1,
   "id": "c44d6887",
   "metadata": {},
   "outputs": [
    {
     "name": "stdout",
     "output_type": "stream",
     "text": [
      "Please enter your marks ?78\n",
      " Your grade is C\n"
     ]
    }
   ],
   "source": [
    "#Question no 1\n",
    "\n",
    "user_input = int(input(\"Please enter your marks ?\"))\n",
    "\n",
    "if user_input >90:\n",
    "    print(\"Your grade is A\")\n",
    "elif user_input > 80 :\n",
    "    print(\"Your grade is B\")\n",
    "elif user_input >=60:\n",
    "    print(\" Your grade is C\")\n",
    "else :\n",
    "    print(\"Your grade is D\")"
   ]
  },
  {
   "cell_type": "code",
   "execution_count": 2,
   "id": "69d0569d",
   "metadata": {},
   "outputs": [
    {
     "name": "stdout",
     "output_type": "stream",
     "text": [
      "Please enter your car prize ?115000\n",
      "Your road Tax  is 15%\n"
     ]
    }
   ],
   "source": [
    "# Question no. 2\n",
    "\n",
    "user_input = int(input(\"Please enter your car prize ?\"))\n",
    "\n",
    "if user_input > 100000:\n",
    "    print(\"Your road Tax  is 15%\")\n",
    "elif user_input > 50000 :\n",
    "    print(\"Your road tax is 10%\")\n",
    "else :\n",
    "    print(\"Your road tax is 5%\")"
   ]
  },
  {
   "cell_type": "code",
   "execution_count": 3,
   "id": "ae3b2ea8",
   "metadata": {},
   "outputs": [
    {
     "name": "stdout",
     "output_type": "stream",
     "text": [
      "Please write your City name ?delhi\n",
      "Red fort\n"
     ]
    }
   ],
   "source": [
    "# Question no. 3\n",
    "\n",
    "user_input = str(input(\"Please write your City name ?\").capitalize())\n",
    "city = {\"Delhi\" : \"Red fort\", \"Agra\":\"Tajmahal\", \"Jaipur\" : \"Jai Mahal\" }\n",
    "if user_input in city:\n",
    "    print(city[user_input])\n",
    "else:\n",
    "    print(\"city data is not here.\")"
   ]
  },
  {
   "cell_type": "code",
   "execution_count": 4,
   "id": "658cbbda",
   "metadata": {},
   "outputs": [
    {
     "name": "stdout",
     "output_type": "stream",
     "text": [
      "Please enter your no. ?15\n",
      "5\n"
     ]
    }
   ],
   "source": [
    "# Question no. 4\n",
    "\n",
    "user_input = int(input(\"Please enter your no. ?\"))\n",
    "check = True\n",
    "while check :\n",
    "    if user_input /3 ==0:\n",
    "        print(f\"{user_input/3}\")\n",
    "        check = False\n",
    "    elif user_input /3 <=10:\n",
    "        print(f\"{int(user_input/3)}\")\n",
    "        check = False  "
   ]
  },
  {
   "cell_type": "code",
   "execution_count": 5,
   "id": "44b9ab0c",
   "metadata": {},
   "outputs": [
    {
     "name": "stdout",
     "output_type": "stream",
     "text": [
      "A \"While\" Loop is used to repeat a specific block of code an unknown number of times, until a condition is met. For example, if we want to ask a user for a number between 1 and 10, we don't know how many times the user may enter a larger number, so we keep asking \"while the number is not between 1 and 10\".\n"
     ]
    }
   ],
   "source": [
    "# Question no. 5\n",
    "while_loop = \"\"\"A \"While\" Loop is used to repeat a specific block of code an unknown number of times, until a condition is met. For example, if we want to ask a user for a number between 1 and 10, we don't know how many times the user may enter a larger number, so we keep asking \"while the number is not between 1 and 10\".\"\"\"\n",
    "print(while_loop)"
   ]
  },
  {
   "cell_type": "code",
   "execution_count": 8,
   "id": "fe9157cd",
   "metadata": {},
   "outputs": [
    {
     "name": "stdout",
     "output_type": "stream",
     "text": [
      "0,0,0\n",
      "1,1,1\n",
      "2,2,4\n"
     ]
    }
   ],
   "source": [
    "# Question no. 6\n",
    "\n",
    "x = True\n",
    "while x:\n",
    "    j = 0\n",
    "    i = 0\n",
    "    while  j <= 2 :\n",
    "        print(f\"{i},{j},{i*j}\")\n",
    "        j += 1\n",
    "        i += 1\n",
    "        x = False"
   ]
  },
  {
   "cell_type": "code",
   "execution_count": 9,
   "id": "e3d14b41",
   "metadata": {},
   "outputs": [
    {
     "name": "stdout",
     "output_type": "stream",
     "text": [
      "10\n",
      "9\n",
      "8\n",
      "7\n",
      "6\n",
      "5\n",
      "4\n",
      "3\n",
      "2\n",
      "1\n"
     ]
    }
   ],
   "source": [
    "# Question no. 7\n",
    "i = 10\n",
    "while i >0 :\n",
    "    print(i)\n",
    "    i -=1"
   ]
  },
  {
   "cell_type": "code",
   "execution_count": null,
   "id": "c7073da2",
   "metadata": {},
   "outputs": [],
   "source": [
    "# Question no. 8\n",
    "i = 10\n",
    "while i >0 :\n",
    "    print(i)\n",
    "    i -=1"
   ]
  },
  {
   "cell_type": "code",
   "execution_count": null,
   "id": "a18df617",
   "metadata": {},
   "outputs": [],
   "source": []
  }
 ],
 "metadata": {
  "kernelspec": {
   "display_name": "Python 3 (ipykernel)",
   "language": "python",
   "name": "python3"
  },
  "language_info": {
   "codemirror_mode": {
    "name": "ipython",
    "version": 3
   },
   "file_extension": ".py",
   "mimetype": "text/x-python",
   "name": "python",
   "nbconvert_exporter": "python",
   "pygments_lexer": "ipython3",
   "version": "3.9.12"
  }
 },
 "nbformat": 4,
 "nbformat_minor": 5
}
