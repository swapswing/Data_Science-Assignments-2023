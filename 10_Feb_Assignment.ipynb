{
 "cells": [
  {
   "cell_type": "markdown",
   "id": "ea6fad1c-0bbb-497b-aea6-8d8ad7015670",
   "metadata": {},
   "source": [
    "Q1. Which function is used to open a file? What are the different modes of opening a file? Explain each mode\n",
    "of file opening.\n",
    "\n",
    "\n",
    "Ans.In Python, the open() function is used to open a file. The different modes of opening a file are:\n",
    "\n",
    "'r': Opens the file in read-only mode. The pointer is placed at the beginning of the file. If the file does not exist, it raises a FileNotFoundError.\n",
    "'w': Opens the file in write-only mode. If the file exists, it truncates the file to zero length. If the file does not exist, it creates a new file.\n",
    "'a': Opens the file in append mode. The pointer is placed at the end of the file. If the file does not exist, it creates a new file.\n",
    "'r+': Opens the file for both reading and writing. The pointer is placed at the beginning of the file.\n",
    "'w+': Opens the file for both reading and writing. It truncates the file to zero length if it exists, otherwise creates a new file.\n",
    "'a+': Opens the file for both reading and appending. The pointer is placed at the end of the file if it exists, otherwise creates a new file."
   ]
  },
  {
   "cell_type": "markdown",
   "id": "77a3b0ce-40d9-4224-bd2c-3655a1a9babb",
   "metadata": {},
   "source": [
    "Q2. Why close() function is used? Why is it important to close a file?\n",
    "\n",
    "\n",
    "Ans.The close() function is used to close an open file. It is important to close a file after opening and performing operations on it because it releases the resources associated with the file, freeing them up for use by other parts of the program or other programs. Failure to close files can lead to resource leaks and can cause issues with file locking and concurrency."
   ]
  },
  {
   "cell_type": "code",
   "execution_count": 10,
   "id": "6ce64cdd-1245-4e53-8350-dce13f177159",
   "metadata": {},
   "outputs": [
    {
     "name": "stdout",
     "output_type": "stream",
     "text": [
      "I want to become a Data Scientist\n"
     ]
    }
   ],
   "source": [
    "#Q3. Write a python program to create a text file. Write ‘I want to become a Data Scientist’ in that file. Then\n",
    "#close the file. Open this file and read the content of the file.\n",
    "\n",
    "\n",
    "# Creating a text file and writing content\n",
    "with open(\"data.txt\", \"w\") as file:\n",
    "    file.write(\"I want to become a Data Scientist\")\n",
    "\n",
    "# Opening the file and reading its content\n",
    "with open(\"data.txt\", \"r\") as file:\n",
    "    content = file.read()\n",
    "    print(content)\n"
   ]
  },
  {
   "cell_type": "markdown",
   "id": "dff2da28-574b-4f4c-a002-0d5115c09b81",
   "metadata": {},
   "source": [
    "Q4. Explain the following with python code: read(), readline() and readlines().\n",
    "\n",
    "\n",
    "Ans.\n",
    "\n",
    "read(): Reads the entire contents of the file and returns it as a string.\n",
    "\n",
    "readline(): Reads a single line from the file and returns it as a string. Subsequent calls to readline() will return the next line.\n",
    "\n",
    "readlines(): Reads all lines from the file and returns them as a list of strings, where each string represents a line in the file."
   ]
  },
  {
   "cell_type": "code",
   "execution_count": 11,
   "id": "b218ca91-4027-4429-8248-80ff1d0e18ab",
   "metadata": {},
   "outputs": [
    {
     "name": "stdout",
     "output_type": "stream",
     "text": [
      "I want to become a Data Scientist\n",
      "I want to become a Data ScientistI want to become a Data Scientist"
     ]
    }
   ],
   "source": [
    "# Using read()\n",
    "with open(\"data.txt\", \"r\") as file:\n",
    "    content = file.read()\n",
    "    print(content)\n",
    "\n",
    "# Using readline()\n",
    "with open(\"data.txt\", \"r\") as file:\n",
    "    line = file.readline()\n",
    "    while line:\n",
    "        print(line, end=\"\")\n",
    "        line = file.readline()\n",
    "\n",
    "# Using readlines()\n",
    "with open(\"data.txt\", \"r\") as file:\n",
    "    lines = file.readlines()\n",
    "    for line in lines:\n",
    "        print(line, end=\"\")\n"
   ]
  },
  {
   "cell_type": "markdown",
   "id": "0fe69251-babe-4d83-82f5-b4b787e971fe",
   "metadata": {},
   "source": [
    "Q5. Explain why with statement is used with open(). What is the advantage of using with statement and\n",
    "open() together?\n",
    "\n",
    "\n",
    "Ans.The with statement in Python is used to automatically close resources (like files) when they are no longer needed. When used with open(), it ensures that the file is properly closed after its suite finishes, even if an exception is raised during the execution of the code.\n",
    "\n",
    "The advantage of using with statement with open() is that it simplifies the code and ensures proper resource management. It eliminates the need for an explicit close() call, reducing the chance of resource leaks and making the code more readable."
   ]
  },
  {
   "cell_type": "markdown",
   "id": "4688655e-5b14-4f41-8180-ccbecf9fc720",
   "metadata": {},
   "source": [
    "Q6. Explain the write() and writelines() functions. Give a suitable example.\n",
    "\n",
    "\n",
    "Ans.write(): Writes the specified string to the file. If the file does not exist, it creates a new file. If the file exists, it truncates the file to zero length before writing.\n",
    "writelines(): Writes a list of strings to the file. It does not add any line separators (like newline characters) between the strings"
   ]
  },
  {
   "cell_type": "code",
   "execution_count": 13,
   "id": "b4628b03-6f99-4be1-827d-2ae9d0af99b3",
   "metadata": {},
   "outputs": [],
   "source": [
    "# Using write()\n",
    "with open(\"output.txt\", \"w\") as file:\n",
    "    file.write(\"Hello, world!\\n\")\n",
    "    file.write(\"This is a test.\\n\")\n",
    "\n",
    "# Using writelines()\n",
    "lines = [\"Line 1\\n\", \"Line 2\\n\", \"Line 3\\n\"]\n",
    "with open(\"output.txt\", \"w\") as file:\n",
    "    file.writelines(lines)\n"
   ]
  },
  {
   "cell_type": "code",
   "execution_count": null,
   "id": "26c74357-8dc5-4b53-a60b-618d6032ac95",
   "metadata": {},
   "outputs": [],
   "source": []
  }
 ],
 "metadata": {
  "kernelspec": {
   "display_name": "Python 3 (ipykernel)",
   "language": "python",
   "name": "python3"
  },
  "language_info": {
   "codemirror_mode": {
    "name": "ipython",
    "version": 3
   },
   "file_extension": ".py",
   "mimetype": "text/x-python",
   "name": "python",
   "nbconvert_exporter": "python",
   "pygments_lexer": "ipython3",
   "version": "3.10.8"
  }
 },
 "nbformat": 4,
 "nbformat_minor": 5
}
