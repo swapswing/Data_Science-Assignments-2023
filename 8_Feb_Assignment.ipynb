{
 "cells": [
  {
   "cell_type": "markdown",
   "id": "5099c5a8-0a96-42d1-b9f0-57fa6a34bfd2",
   "metadata": {},
   "source": [
    "\"\"\"Q1. What is Abstraction in OOps? Explain with an example.\n",
    "Ans. Abstraction in Object-Oriented Programming (OOP) refers to the concept of hiding the complex implementation details of a system while only exposing the necessary functionalities or interfaces to the users. It allows developers to focus on what an object does rather than how it does it.\n",
    "\n",
    "Example: Consider a car. From a user's perspective, they don't need to know the intricate details of how the engine, transmission, or brakes work. They only need to know how to interact with the car, such as pressing the accelerator, brake, or turning the steering wheel. In this case, the internal mechanisms of the car are abstracted away, and users interact with the car's interface, such as pedals and steering wheel.\"\"\""
   ]
  },
  {
   "cell_type": "code",
   "execution_count": 3,
   "id": "2372d399-ab60-41d0-b5af-f63d3281ff76",
   "metadata": {},
   "outputs": [
    {
     "name": "stdout",
     "output_type": "stream",
     "text": [
      "Woof!\n",
      "Meow!\n"
     ]
    }
   ],
   "source": [
    "class Animal:\n",
    "    def __init__(self, name):\n",
    "        self.name = name\n",
    "    \n",
    "    def make_sound(self):\n",
    "        pass\n",
    "\n",
    "class Dog(Animal):\n",
    "    def make_sound(self):\n",
    "        return \"Woof!\"\n",
    "\n",
    "class Cat(Animal):\n",
    "    def make_sound(self):\n",
    "        return \"Meow!\"\n",
    "\n",
    "dog = Dog(\"Buddy\")\n",
    "print(dog.make_sound())  # Output: Woof!\n",
    "\n",
    "cat = Cat(\"Whiskers\")\n",
    "print(cat.make_sound())  # Output: Meow!\n",
    "#In this example, Animal is an abstract class as it defines a method make_sound() without any implementation. Concrete subclasses Dog and Cat provide their own implementations for the make_sound() method. The users of the Animal class don't need to know how each animal makes a sound; they just need to know that they can call the make_sound() method to get the sound of the animal."
   ]
  },
  {
   "cell_type": "markdown",
   "id": "97f0fe6e-ba03-467c-9d9a-4a397cbd0c10",
   "metadata": {},
   "source": [
    "#Q2. Differentiate between Abstraction and Encapsulation. Explain with an example.\n",
    "\n",
    "\n",
    "'''\n",
    "Ans.Abstraction is the concept of hiding the implementation details and showing only the necessary features of an object.\n",
    "Encapsulation is the concept of wrapping data and methods into a single unit, thus hiding the internal state of an object from the outside world.'''"
   ]
  },
  {
   "cell_type": "code",
   "execution_count": 5,
   "id": "33926ac4-1c74-497f-b5e9-ff5624b62842",
   "metadata": {},
   "outputs": [
    {
     "name": "stdout",
     "output_type": "stream",
     "text": [
      "60\n",
      "70\n"
     ]
    }
   ],
   "source": [
    "# Abstraction\n",
    "class Animal:\n",
    "    def make_sound(self):\n",
    "        pass\n",
    "\n",
    "class Dog(Animal):\n",
    "    def make_sound(self):\n",
    "        return \"Woof!\"\n",
    "\n",
    "# Encapsulation\n",
    "class Car:\n",
    "    def __init__(self, color, speed):\n",
    "        self.color = color\n",
    "        self.speed = speed\n",
    "    \n",
    "    def accelerate(self):\n",
    "        self.speed += 10\n",
    "\n",
    "    def get_speed(self):\n",
    "        return self.speed\n",
    "\n",
    "my_car = Car(\"Red\", 60)\n",
    "print(my_car.get_speed())  # Output: 60\n",
    "my_car.accelerate()\n",
    "print(my_car.get_speed())  # Output: 70"
   ]
  },
  {
   "cell_type": "markdown",
   "id": "3baaaa28-583b-45fd-8bda-8a7bad511068",
   "metadata": {},
   "source": [
    "Q3. What is abc module in python? Why is it used?\n",
    "\n",
    "\n",
    "Ans.The abc module in Python stands for \"Abstract Base Classes\". It provides tools for creating abstract base classes and working with them. Abstract base classes are classes that are meant to be subclassed but not instantiated themselves. They define methods that must be implemented by their subclasses.\n",
    "\n",
    "This module is used to enforce the implementation of certain methods in subclasses, providing a form of interface-like functionality."
   ]
  },
  {
   "cell_type": "markdown",
   "id": "b18b654d-d1a8-47a7-90d6-b543991c8ccd",
   "metadata": {},
   "source": [
    "Q4. How can we achieve data abstraction?\n",
    "\n",
    "\n",
    "Ans.Data abstraction can be achieved in Python by using abstract classes, interfaces, or by following certain conventions. Abstract classes can define abstract methods that must be implemented by subclasses, thus hiding the implementation details."
   ]
  },
  {
   "cell_type": "markdown",
   "id": "d020757f-55ce-46e3-9927-bb530ecd98ea",
   "metadata": {},
   "source": [
    "Q5. Can we create an instance of an abstract class? Explain your answer.\n",
    "\n",
    "\n",
    "Ans.No, we cannot create an instance of an abstract class in Python. Abstract classes are meant to be subclassed, and they typically contain one or more abstract methods that must be implemented by subclasses. Attempting to instantiate an abstract class directly will raise a TypeError.\n",
    "\n",
    "\n",
    "\n",
    "\n",
    "\n",
    "\n"
   ]
  }
 ],
 "metadata": {
  "kernelspec": {
   "display_name": "Python 3 (ipykernel)",
   "language": "python",
   "name": "python3"
  },
  "language_info": {
   "codemirror_mode": {
    "name": "ipython",
    "version": 3
   },
   "file_extension": ".py",
   "mimetype": "text/x-python",
   "name": "python",
   "nbconvert_exporter": "python",
   "pygments_lexer": "ipython3",
   "version": "3.10.8"
  }
 },
 "nbformat": 4,
 "nbformat_minor": 5
}
