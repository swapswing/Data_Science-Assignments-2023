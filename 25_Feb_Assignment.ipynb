{
 "cells": [
  {
   "cell_type": "code",
   "execution_count": 1,
   "id": "3440599d-7136-42c5-9e6d-29d35480e2dc",
   "metadata": {},
   "outputs": [
    {
     "name": "stdout",
     "output_type": "stream",
     "text": [
      "course_name    Machine Learning\n",
      "duration                      3\n",
      "Name: 1, dtype: object\n"
     ]
    }
   ],
   "source": [
    "# Q1. Write a code to print the data present in the second row of the dataframe, df.\n",
    "import pandas as pd\n",
    "\n",
    "course_name = ['Data Science', 'Machine Learning', 'Big Data', 'Data Engineer']\n",
    "duration = [2, 3, 6, 4]\n",
    "df = pd.DataFrame(data={'course_name': course_name, 'duration': duration})\n",
    "\n",
    "# Code to print the data present in the second row\n",
    "print(df.iloc[1])\n"
   ]
  },
  {
   "cell_type": "markdown",
   "id": "7ed66580-4fcc-4fb5-85f7-96f040d40f09",
   "metadata": {},
   "source": [
    "# Q2. What is the difference between the functions loc and iloc in pandas.DataFrame?\n",
    "loc: Accesses rows and columns by labels or a boolean array. It includes the endpoints of the slicing.\n",
    "\n",
    "\n",
    "iloc: Accesses rows and columns by integer positions (indexes). It excludes the endpoint when slicing."
   ]
  },
  {
   "cell_type": "markdown",
   "id": "e67d3f44-7f96-4ecc-ab8a-2d069851d57c",
   "metadata": {},
   "source": [
    "# Q3. Reindex the given dataframe using a variable, reindex = [3, 0, 1, 2] and store it in the variable, new_df, then find the output for both new_df.loc[2] and new_df.iloc[2]."
   ]
  },
  {
   "cell_type": "code",
   "execution_count": 2,
   "id": "f0b190b5-0b57-4252-84fa-0d6fb8329f3a",
   "metadata": {},
   "outputs": [
    {
     "name": "stdout",
     "output_type": "stream",
     "text": [
      "course_name    Big Data\n",
      "duration              6\n",
      "Name: 2, dtype: object\n",
      "course_name    Machine Learning\n",
      "duration                      3\n",
      "Name: 1, dtype: object\n"
     ]
    }
   ],
   "source": [
    "reindex = [3, 0, 1, 2]\n",
    "new_df = df.reindex(reindex)\n",
    "\n",
    "# Outputs\n",
    "print(new_df.loc[2])\n",
    "print(new_df.iloc[2])\n"
   ]
  },
  {
   "cell_type": "markdown",
   "id": "46cf9918-0e53-4783-8625-4fb2003c6f24",
   "metadata": {},
   "source": [
    "# Q4. Write a code to find the following statistical measurements for the above dataframe df1: (i) Mean of each and every column present in the dataframe.(ii) Standard deviation of the column, column_2.\n"
   ]
  },
  {
   "cell_type": "code",
   "execution_count": 3,
   "id": "414b16f4-f0f3-4374-9d96-eee9c8685dbd",
   "metadata": {},
   "outputs": [
    {
     "name": "stdout",
     "output_type": "stream",
     "text": [
      "column_1    0.233290\n",
      "column_2    0.465324\n",
      "column_3    0.392395\n",
      "column_4    0.533159\n",
      "column_5    0.564678\n",
      "column_6    0.633829\n",
      "dtype: float64\n",
      "0.3036740141362572\n"
     ]
    }
   ],
   "source": [
    "import numpy as np\n",
    "\n",
    "columns = ['column_1', 'column_2', 'column_3', 'column_4', 'column_5', 'column_6']\n",
    "indices = [1, 2, 3, 4, 5, 6]\n",
    "df1 = pd.DataFrame(np.random.rand(6, 6), columns=columns, index=indices)\n",
    "\n",
    "# Mean of each column\n",
    "print(df1.mean())\n",
    "\n",
    "# Standard deviation of 'column_2'\n",
    "print(df1['column_2'].std())\n"
   ]
  },
  {
   "cell_type": "markdown",
   "id": "7a3ea0aa-49e5-452e-897b-a6e6ae7f6ad5",
   "metadata": {},
   "source": [
    "# Q5. Replace the data present in the second row of column, column_2 by a string variable then find the mean of column, column_2. If you are getting errors in executing it then explain why."
   ]
  },
  {
   "cell_type": "code",
   "execution_count": 16,
   "id": "670e3b01-8c6a-45c3-92c7-bbc3e64bf315",
   "metadata": {},
   "outputs": [
    {
     "name": "stdout",
     "output_type": "stream",
     "text": [
      "Error: unsupported operand type(s) for +: 'float' and 'str'\n"
     ]
    }
   ],
   "source": [
    "# Replacing data\n",
    "df1.loc[2, 'column_2'] = 'string_value'\n",
    "\n",
    "# Attempt to calculate mean\n",
    "try:\n",
    "    print(df1['column_2'].mean())\n",
    "except TypeError as e:\n",
    "    print(f\"Error: {e}\")\n"
   ]
  },
  {
   "cell_type": "markdown",
   "id": "f3d477cb-424a-4d01-8f50-4e6af7cf7fcc",
   "metadata": {},
   "source": [
    "Ans5 .Explanation: A TypeError occurs because you cannot calculate the mean of a column that contains non-numeric data (string)."
   ]
  },
  {
   "cell_type": "markdown",
   "id": "549f37f3-0c5a-4a38-bdb9-81bde03ac242",
   "metadata": {},
   "source": [
    "# Q6. What do you understand about the windows function in pandas and list the types of windows functions?\n",
    "Window Functions: These functions perform calculations across a set of rows related to the current row. They are useful for calculating statistics like moving averages, cumulative sums, etc.\n",
    "Types:\n",
    "Rolling: Performs operations on a rolling window of fixed size.\n",
    "Expanding: Expands the window size with each calculation, including all previous rows.\n",
    "EWM (Exponentially Weighted Moving): Applies weights that decay exponentially with each previous value."
   ]
  },
  {
   "cell_type": "markdown",
   "id": "53b96403-cde2-427a-ab54-706e469f77b3",
   "metadata": {},
   "source": [
    "# Q7. Write a code to print only the current month and year at the time of answering this question."
   ]
  },
  {
   "cell_type": "code",
   "execution_count": 4,
   "id": "52e9aef0-3bdb-4707-8c99-1eff090c3480",
   "metadata": {},
   "outputs": [
    {
     "name": "stdout",
     "output_type": "stream",
     "text": [
      "August, 2024\n"
     ]
    },
    {
     "name": "stderr",
     "output_type": "stream",
     "text": [
      "/tmp/ipykernel_3879/229300241.py:4: FutureWarning: The parsing of 'now' in pd.to_datetime without `utc=True` is deprecated. In a future version, this will match Timestamp('now') and Timestamp.now()\n",
      "  current_date = pd.to_datetime('now')\n"
     ]
    }
   ],
   "source": [
    "import pandas as pd\n",
    "\n",
    "# Current month and year\n",
    "current_date = pd.to_datetime('now')\n",
    "print(current_date.strftime(\"%B, %Y\"))\n"
   ]
  },
  {
   "cell_type": "markdown",
   "id": "927b9fb5-91fb-416e-b97f-3f5e4f63e9f9",
   "metadata": {},
   "source": [
    "# Q8. Write a Python program that takes in two dates as input (in the format YYYY-MM-DD) and calculates the difference between them in days, hours, and minutes using Pandas time delta. The program should prompt the user to enter the dates and display the result."
   ]
  },
  {
   "cell_type": "code",
   "execution_count": 5,
   "id": "f4bd0cc2-f38f-4317-ba94-b5165954f5f4",
   "metadata": {},
   "outputs": [
    {
     "name": "stdin",
     "output_type": "stream",
     "text": [
      "Enter the first date (YYYY-MM-DD):  2024-08-08\n",
      "Enter the second date (YYYY-MM-DD):  2025-02-02\n"
     ]
    },
    {
     "name": "stdout",
     "output_type": "stream",
     "text": [
      "Difference: 178 days, 0 hours, and 0 minutes\n"
     ]
    }
   ],
   "source": [
    "import pandas as pd\n",
    "\n",
    "# Input dates\n",
    "date1 = pd.to_datetime(input(\"Enter the first date (YYYY-MM-DD): \"))\n",
    "date2 = pd.to_datetime(input(\"Enter the second date (YYYY-MM-DD): \"))\n",
    "\n",
    "# Calculate time delta\n",
    "delta = date2 - date1\n",
    "\n",
    "# Display the difference\n",
    "print(f\"Difference: {delta.days} days, {delta.seconds // 3600} hours, and {(delta.seconds // 60) % 60} minutes\")\n"
   ]
  },
  {
   "cell_type": "markdown",
   "id": "bfc00748-58de-465d-ad13-4bcd61b0b107",
   "metadata": {},
   "source": [
    "# Q9. Write a Python program that reads and create a CSV file containing categorical data and converts a specified column to a categorical data type. The program should shows  file path, column name, and category order, and then display the sorted data."
   ]
  },
  {
   "cell_type": "code",
   "execution_count": 15,
   "id": "89bd582d-485a-4bcb-9d49-71aa0ddb1338",
   "metadata": {},
   "outputs": [
    {
     "name": "stdout",
     "output_type": "stream",
     "text": [
      "CSV file path: categorical_data.csv\n",
      "Column name: Quality\n",
      "Category order: ['Low', 'Medium', 'High']\n",
      "\n",
      "Sorted Data:\n",
      "     Item Category Quality\n",
      "1  Banana    Fruit     Low\n",
      "3   Apple    Fruit     Low\n",
      "2  Orange    Fruit  Medium\n",
      "5  Banana    Fruit  Medium\n",
      "0   Apple    Fruit    High\n",
      "4  Orange    Fruit    High\n",
      "6   Apple    Fruit    High\n"
     ]
    }
   ],
   "source": [
    "import pandas as pd\n",
    "\n",
    "# Data for CSV\n",
    "data = {\n",
    "    \"Item\": [\"Apple\", \"Banana\", \"Orange\", \"Apple\", \"Orange\", \"Banana\", \"Apple\"],\n",
    "    \"Category\": [\"Fruit\", \"Fruit\", \"Fruit\", \"Fruit\", \"Fruit\", \"Fruit\", \"Fruit\"],\n",
    "    \"Quality\": [\"High\", \"Low\", \"Medium\", \"Low\", \"High\", \"Medium\", \"High\"]\n",
    "}\n",
    "\n",
    "# Creating DataFrame\n",
    "df = pd.DataFrame(data)\n",
    "\n",
    "# Saving to CSV\n",
    "csv_file_path = \"categorical_data.csv\"\n",
    "df.to_csv(csv_file_path, index=False)\n",
    "\n",
    "# Displaying the file path, column name, and category order\n",
    "print(f\"CSV file path: {csv_file_path}\")\n",
    "column_name = \"Quality\"\n",
    "category_order = [\"Low\", \"Medium\", \"High\"]\n",
    "print(f\"Column name: {column_name}\")\n",
    "print(f\"Category order: {category_order}\")\n",
    "\n",
    "# Reading CSV file\n",
    "df = pd.read_csv(csv_file_path)\n",
    "\n",
    "# Convert specified column to categorical data type\n",
    "df[column_name] = pd.Categorical(df[column_name], categories=category_order, ordered=True)\n",
    "\n",
    "# Sort data by the categorical column\n",
    "sorted_df = df.sort_values(by=column_name)\n",
    "\n",
    "# Display the sorted data\n",
    "print(\"\\nSorted Data:\")\n",
    "print(sorted_df)\n"
   ]
  },
  {
   "cell_type": "markdown",
   "id": "e1425af6-6aea-444d-8b1b-b1925be48b8d",
   "metadata": {},
   "source": [
    "# Q10. Write a Python program that creates a CSV file containing sales data for different products and visualizes the data using a stacked bar chart to show the sales of each product category over time. The program should show the data that made and display the chart."
   ]
  },
  {
   "cell_type": "code",
   "execution_count": 14,
   "id": "da260647-90bb-4f23-90c3-32a42e86d2dc",
   "metadata": {},
   "outputs": [
    {
     "name": "stdout",
     "output_type": "stream",
     "text": [
      "Sales Data:\n",
      "      Date Product  Sales\n",
      "0  2024-01       A    100\n",
      "1  2024-01       B    150\n",
      "2  2024-01       C    200\n",
      "3  2024-02       A    130\n",
      "4  2024-02       B    170\n",
      "5  2024-02       C    210\n",
      "6  2024-03       A    160\n",
      "7  2024-03       B    180\n",
      "8  2024-03       C    220\n"
     ]
    },
    {
     "data": {
      "image/png": "[encoded data removed]",
      "text/plain": [
       "<Figure size 640x480 with 1 Axes>"
      ]
     },
     "metadata": {},
     "output_type": "display_data"
    }
   ],
   "source": [
    "import pandas as pd\n",
    "import matplotlib.pyplot as plt\n",
    "\n",
    "# Data for CSV\n",
    "data = {\n",
    "    \"Date\": [\"2024-01\", \"2024-01\", \"2024-01\", \"2024-02\", \"2024-02\", \"2024-02\", \"2024-03\", \"2024-03\", \"2024-03\"],\n",
    "    \"Product\": [\"A\", \"B\", \"C\", \"A\", \"B\", \"C\", \"A\", \"B\", \"C\"],\n",
    "    \"Sales\": [100, 150, 200, 130, 170, 210, 160, 180, 220]\n",
    "}\n",
    "\n",
    "# Creating DataFrame\n",
    "df = pd.DataFrame(data)\n",
    "\n",
    "# Saving to CSV\n",
    "csv_file_path = \"sales_data.csv\"\n",
    "df.to_csv(csv_file_path, index=False)\n",
    "\n",
    "# Reading CSV file\n",
    "df = pd.read_csv(csv_file_path)\n",
    "\n",
    "# Displaying the data\n",
    "print(\"Sales Data:\")\n",
    "print(df)\n",
    "\n",
    "# Pivot the data for stacked bar chart\n",
    "pivot_df = df.pivot_table(index='Date', columns='Product', values='Sales', aggfunc='sum')\n",
    "\n",
    "# Plot stacked bar chart\n",
    "pivot_df.plot(kind='bar', stacked=True)\n",
    "plt.title('Sales of Each Product Category Over Time')\n",
    "plt.ylabel('Sales')\n",
    "plt.xlabel('Date')\n",
    "plt.show()\n"
   ]
  },
  {
   "cell_type": "markdown",
   "id": "e4f99203-c861-4d7e-a034-e5503b26da0a",
   "metadata": {},
   "source": [
    "# Q11. Write a Python program that reads a CSV file containing student data that includes the student ID and their test score. The program should calculate the mean, median, and mode of the test scores and display the results in a table."
   ]
  },
  {
   "cell_type": "code",
   "execution_count": 13,
   "id": "2af95d2a-397f-4581-98b9-3135b3cf1e94",
   "metadata": {},
   "outputs": [
    {
     "name": "stdout",
     "output_type": "stream",
     "text": [
      "+-----------+--------+\n",
      "| Statistic | Value  |\n",
      "+-----------+--------+\n",
      "| Mean      | 83.5  |\n",
      "| Median    | 85.0    |\n",
      "| Mode      | 85  |\n",
      "+-----------+--------+\n"
     ]
    },
    {
     "name": "stderr",
     "output_type": "stream",
     "text": [
      "/tmp/ipykernel_3879/815888705.py:23: FutureWarning: Unlike other reduction functions (e.g. `skew`, `kurtosis`), the default behavior of `mode` typically preserves the axis it acts along. In SciPy 1.11.0, this behavior will change: the default value of `keepdims` will become False, the `axis` over which the statistic is taken will be eliminated, and the value None will no longer be accepted. Set `keepdims` to True or False to avoid this warning.\n",
      "  mode_score = stats.mode(df['Test Score']).mode\n"
     ]
    }
   ],
   "source": [
    "import pandas as pd\n",
    "from scipy import stats\n",
    "\n",
    "# Data for CSV\n",
    "data = {\n",
    "    \"Student ID\": [1, 2, 3, 4, 5, 6, 7, 8, 9, 10],\n",
    "    \"Test Score\": [85, 90, 80, 75, 85, 82, 78, 85, 90, 85]\n",
    "}\n",
    "\n",
    "# Creating DataFrame\n",
    "df = pd.DataFrame(data)\n",
    "\n",
    "# Saving to CSV\n",
    "csv_file_path = \"student_data.csv\"\n",
    "df.to_csv(csv_file_path, index=False)\n",
    "\n",
    "# Reading CSV file\n",
    "df = pd.read_csv(csv_file_path)\n",
    "\n",
    "# Calculate statistics\n",
    "mean_score = df['Test Score'].mean()\n",
    "median_score = df['Test Score'].median()\n",
    "mode_score = stats.mode(df['Test Score']).mode\n",
    "\n",
    "# Display results in a table format\n",
    "print(f\"+-----------+--------+\")\n",
    "print(f\"| Statistic | Value  |\")\n",
    "print(f\"+-----------+--------+\")\n",
    "print(f\"| Mean      | {mean_score:.1f}  |\")\n",
    "print(f\"| Median    | {median_score}    |\")\n",
    "print(f\"| Mode      | {', '.join(map(str, mode_score))}  |\")\n",
    "print(f\"+-----------+--------+\")\n"
   ]
  },
  {
   "cell_type": "code",
   "execution_count": null,
   "id": "4c8e1198-31e1-4b60-b1a6-d97cef91bdf8",
   "metadata": {},
   "outputs": [],
   "source": []
  }
 ],
 "metadata": {
  "kernelspec": {
   "display_name": "Python 3 (ipykernel)",
   "language": "python",
   "name": "python3"
  },
  "language_info": {
   "codemirror_mode": {
    "name": "ipython",
    "version": 3
   },
   "file_extension": ".py",
   "mimetype": "text/x-python",
   "name": "python",
   "nbconvert_exporter": "python",
   "pygments_lexer": "ipython3",
   "version": "3.10.8"
  }
 },
 "nbformat": 4,
 "nbformat_minor": 5
}
